{
 "cells": [
  {
   "cell_type": "code",
   "execution_count": null,
   "metadata": {},
   "outputs": [],
   "source": []
  },
  {
   "cell_type": "code",
   "execution_count": 4,
   "metadata": {},
   "outputs": [
    {
     "name": "stderr",
     "output_type": "stream",
     "text": [
      "/var/folders/_7/gw7m14q925731rjlj61v1dqm0000gn/T/ipykernel_36850/3389856261.py:15: SADeprecationWarning: The AutomapBase.prepare.reflect parameter is deprecated and will be removed in a future release.  Reflection is enabled when AutomapBase.prepare.autoload_with is passed.\n",
      "  Base.prepare(engine, reflect=True)\n"
     ]
    },
    {
     "ename": "AttributeError",
     "evalue": "apt_raw",
     "output_type": "error",
     "traceback": [
      "\u001b[0;31m---------------------------------------------------------------------------\u001b[0m",
      "\u001b[0;31mKeyError\u001b[0m                                  Traceback (most recent call last)",
      "File \u001b[0;32m~/Dropbox/real_estate/.venv/lib/python3.12/site-packages/sqlalchemy/util/_collections.py:214\u001b[0m, in \u001b[0;36mProperties.__getattr__\u001b[0;34m(self, key)\u001b[0m\n\u001b[1;32m    213\u001b[0m \u001b[38;5;28;01mtry\u001b[39;00m:\n\u001b[0;32m--> 214\u001b[0m     \u001b[38;5;28;01mreturn\u001b[39;00m \u001b[38;5;28;43mself\u001b[39;49m\u001b[38;5;241;43m.\u001b[39;49m\u001b[43m_data\u001b[49m\u001b[43m[\u001b[49m\u001b[43mkey\u001b[49m\u001b[43m]\u001b[49m\n\u001b[1;32m    215\u001b[0m \u001b[38;5;28;01mexcept\u001b[39;00m \u001b[38;5;167;01mKeyError\u001b[39;00m:\n",
      "\u001b[0;31mKeyError\u001b[0m: 'apt_raw'",
      "\nDuring handling of the above exception, another exception occurred:\n",
      "\u001b[0;31mAttributeError\u001b[0m                            Traceback (most recent call last)",
      "Cell \u001b[0;32mIn[4], line 43\u001b[0m\n\u001b[1;32m     40\u001b[0m     \u001b[38;5;28;01mreturn\u001b[39;00m df\n\u001b[1;32m     42\u001b[0m \u001b[38;5;66;03m# 함수 사용 예시\u001b[39;00m\n\u001b[0;32m---> 43\u001b[0m df \u001b[38;5;241m=\u001b[39m \u001b[43mfetch_data\u001b[49m\u001b[43m(\u001b[49m\u001b[38;5;241;43m2024\u001b[39;49m\u001b[43m,\u001b[49m\u001b[43m \u001b[49m\u001b[38;5;241;43m5\u001b[39;49m\u001b[43m)\u001b[49m\n\u001b[1;32m     44\u001b[0m \u001b[38;5;28mprint\u001b[39m(df\u001b[38;5;241m.\u001b[39mhead())\n",
      "Cell \u001b[0;32mIn[4], line 18\u001b[0m, in \u001b[0;36mfetch_data\u001b[0;34m(year, month)\u001b[0m\n\u001b[1;32m     15\u001b[0m Base\u001b[38;5;241m.\u001b[39mprepare(engine, reflect\u001b[38;5;241m=\u001b[39m\u001b[38;5;28;01mTrue\u001b[39;00m)\n\u001b[1;32m     17\u001b[0m \u001b[38;5;66;03m# apt_raw 테이블을 매핑\u001b[39;00m\n\u001b[0;32m---> 18\u001b[0m AptRaw \u001b[38;5;241m=\u001b[39m \u001b[43mBase\u001b[49m\u001b[38;5;241;43m.\u001b[39;49m\u001b[43mclasses\u001b[49m\u001b[38;5;241;43m.\u001b[39;49m\u001b[43mapt_raw\u001b[49m\n\u001b[1;32m     20\u001b[0m \u001b[38;5;66;03m# 세션 생성\u001b[39;00m\n\u001b[1;32m     21\u001b[0m Session \u001b[38;5;241m=\u001b[39m sessionmaker(bind\u001b[38;5;241m=\u001b[39mengine)\n",
      "File \u001b[0;32m~/Dropbox/real_estate/.venv/lib/python3.12/site-packages/sqlalchemy/util/_collections.py:216\u001b[0m, in \u001b[0;36mProperties.__getattr__\u001b[0;34m(self, key)\u001b[0m\n\u001b[1;32m    214\u001b[0m     \u001b[38;5;28;01mreturn\u001b[39;00m \u001b[38;5;28mself\u001b[39m\u001b[38;5;241m.\u001b[39m_data[key]\n\u001b[1;32m    215\u001b[0m \u001b[38;5;28;01mexcept\u001b[39;00m \u001b[38;5;167;01mKeyError\u001b[39;00m:\n\u001b[0;32m--> 216\u001b[0m     \u001b[38;5;28;01mraise\u001b[39;00m \u001b[38;5;167;01mAttributeError\u001b[39;00m(key)\n",
      "\u001b[0;31mAttributeError\u001b[0m: apt_raw"
     ]
    }
   ],
   "source": [
    "import pandas as pd\n",
    "from sqlalchemy import create_engine, inspect\n",
    "from sqlalchemy.ext.automap import automap_base\n",
    "from sqlalchemy.orm import sessionmaker\n",
    "\n",
    "def fetch_data(year, month):\n",
    "    # SQLite 데이터베이스 파일 경로\n",
    "    database_file = '/Users/hj/Dropbox/real_estate/data/db/RealEstate.db'\n",
    "\n",
    "    # SQLAlchemy 엔진 생성\n",
    "    engine = create_engine(f'sqlite:///{database_file}')\n",
    "\n",
    "    # Automap Base 설정\n",
    "    Base = automap_base()\n",
    "    Base.prepare(engine, reflect=True)\n",
    "\n",
    "    # apt_raw 테이블을 매핑\n",
    "    AptRaw = Base.classes.apt_raw\n",
    "\n",
    "    # 세션 생성\n",
    "    Session = sessionmaker(bind=engine)\n",
    "    session = Session()\n",
    "\n",
    "    # 년과 월에 따라 데이터 쿼리\n",
    "    query = session.query(AptRaw).filter(\n",
    "        getattr(AptRaw, '년') == year,\n",
    "        getattr(AptRaw, '월') == month\n",
    "    ).all()\n",
    "\n",
    "    # 쿼리 결과를 데이터프레임으로 변환\n",
    "    data = []\n",
    "    for row in query:\n",
    "        data.append({column.name: getattr(row, column.name) for column in inspect(AptRaw).columns})\n",
    "\n",
    "    df = pd.DataFrame(data)\n",
    "\n",
    "    # 세션 종료\n",
    "    session.close()\n",
    "\n",
    "    return df\n",
    "\n",
    "# 함수 사용 예시\n",
    "df = fetch_data(2024, 5)\n",
    "print(df.head())"
   ]
  }
 ],
 "metadata": {
  "kernelspec": {
   "display_name": ".venv",
   "language": "python",
   "name": "python3"
  },
  "language_info": {
   "codemirror_mode": {
    "name": "ipython",
    "version": 3
   },
   "file_extension": ".py",
   "mimetype": "text/x-python",
   "name": "python",
   "nbconvert_exporter": "python",
   "pygments_lexer": "ipython3",
   "version": "3.12.3"
  }
 },
 "nbformat": 4,
 "nbformat_minor": 2
}
