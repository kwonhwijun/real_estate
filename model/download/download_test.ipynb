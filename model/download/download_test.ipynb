{
 "cells": [
  {
   "cell_type": "code",
   "execution_count": 2,
   "metadata": {},
   "outputs": [
    {
     "name": "stdout",
     "output_type": "stream",
     "text": [
      "File downloaded successfully\n"
     ]
    }
   ],
   "source": [
    "import requests\n",
    "\n",
    "url = \"https://rtmobile.molit.go.kr/pt/xls/ptXlsExcelDown.do\"\n",
    "headers = {\n",
    "    \"Accept\": \"text/html,application/xhtml+xml,application/xml;q=0.9,image/avif,image/webp,image/apng,*/*;q=0.8,application/signed-exchange;v=b3;q=0.7\",\n",
    "    \"Accept-Encoding\": \"gzip, deflate, br, zstd\",\n",
    "    \"Accept-Language\": \"ko-KR,ko;q=0.9,en-US;q=0.8,en;q=0.7\",\n",
    "    \"Cache-Control\": \"max-age=0\",\n",
    "    \"Connection\": \"keep-alive\",\n",
    "    \"Content-Type\": \"application/x-www-form-urlencoded\",\n",
    "    \"Cookie\": \"WMONID=-laBSsaxUei; JSESSIONID=RWaCgLQC7b6EmlwSIRst1i3tqCD-lfHtPOfpYLV7.RT_DN20\",\n",
    "    \"Host\": \"rtmobile.molit.go.kr\",\n",
    "    \"Origin\": \"https://rtmobile.molit.go.kr\",\n",
    "    \"Referer\": \"https://rtmobile.molit.go.kr/pt/xls/xls.do?mobileAt=\",\n",
    "    \"Sec-Ch-Ua\": '\"Google Chrome\";v=\"125\", \"Chromium\";v=\"125\", \"Not.A/Brand\";v=\"24\"',\n",
    "    \"Sec-Ch-Ua-Mobile\": \"?0\",\n",
    "    \"Sec-Ch-Ua-Platform\": '\"macOS\"',\n",
    "    \"Sec-Fetch-Dest\": \"iframe\",\n",
    "    \"Sec-Fetch-Mode\": \"navigate\",\n",
    "    \"Sec-Fetch-Site\": \"same-origin\",\n",
    "    \"Upgrade-Insecure-Requests\": \"1\",\n",
    "    \"User-Agent\": \"Mozilla/5.0 (Macintosh; Intel Mac OS X 10_15_7) AppleWebKit/537.36 (KHTML, like Gecko) Chrome/125.0.0.0 Safari/537.36\"\n",
    "}\n",
    "\n",
    "data = {\n",
    "    \"srhThingNo\": \"C\",\n",
    "    \"srhDelngSecd\": \"1\",\n",
    "    \"srhAddrGbn\": \"1\",\n",
    "    \"srhLfstsSecd\": \"1\",\n",
    "    \"sidoNm\": \"전체\",\n",
    "    \"sggNm\": \"전체\",\n",
    "    \"emdNm\": \"전체\",\n",
    "    \"loadNm\": \"전체\",\n",
    "    \"areaNm\": \"전체\",\n",
    "    \"hsmpNm\": \"전체\",\n",
    "    \"hsmpNm\": \"\",\n",
    "    \"hsmpNm\": \"\",\n",
    "    \"mobileAt\": \"\",\n",
    "    \"srhFromDt\": \"2024-05-01\",\n",
    "    \"srhToDt\": \"2024-05-29\",\n",
    "    \"srhSidoCd\": \"\",\n",
    "    \"srhSggCd\": \"\",\n",
    "    \"srhEmdCd\": \"\",\n",
    "    \"srhRoadNm\": \"\",\n",
    "    \"srhLoadCd\": \"\",\n",
    "    \"srhHsmpCd\": \"\",\n",
    "    \"srhArea\": \"\",\n",
    "    \"srhFromAmount\": \"\",\n",
    "    \"srhToAmount\": \"\"\n",
    "}\n",
    "\n",
    "response = requests.post(url, headers=headers, data=data)\n",
    "\n",
    "# 다운로드 받은 파일 저장\n",
    "with open(\"downloaded_file_c.xlsx\", \"wb\") as file:\n",
    "    file.write(response.content)\n",
    "\n",
    "print(\"File downloaded successfully\")\n"
   ]
  }
 ],
 "metadata": {
  "kernelspec": {
   "display_name": ".venv",
   "language": "python",
   "name": "python3"
  },
  "language_info": {
   "codemirror_mode": {
    "name": "ipython",
    "version": 3
   },
   "file_extension": ".py",
   "mimetype": "text/x-python",
   "name": "python",
   "nbconvert_exporter": "python",
   "pygments_lexer": "ipython3",
   "version": "3.12.3"
  }
 },
 "nbformat": 4,
 "nbformat_minor": 2
}
