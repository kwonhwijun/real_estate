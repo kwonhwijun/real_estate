{
 "cells": [
  {
   "cell_type": "code",
   "execution_count": 6,
   "metadata": {},
   "outputs": [],
   "source": [
    "import api\n",
    "eng_aggre = api.create_engine('sqlite:////Users/hj/Dropbox/real_estate/data/db/real_estate.db')"
   ]
  },
  {
   "cell_type": "code",
   "execution_count": 10,
   "metadata": {},
   "outputs": [
    {
     "name": "stdout",
     "output_type": "stream",
     "text": [
      "202301 data is saved. 242 locations with no data saved.\n",
      "202302 data is saved. 239 locations with no data saved.\n",
      "202303 data is saved. 229 locations with no data saved.\n",
      "202304 data is saved. 235 locations with no data saved.\n",
      "202305 data is saved. 235 locations with no data saved.\n",
      "202306 data is saved. 237 locations with no data saved.\n",
      "202307 data is saved. 233 locations with no data saved.\n",
      "202308 data is saved. 232 locations with no data saved.\n",
      "202309 data is saved. 235 locations with no data saved.\n",
      "202310 data is saved. 230 locations with no data saved.\n",
      "202311 data is saved. 237 locations with no data saved.\n",
      "202312 data is saved. 234 locations with no data saved.\n",
      "202401 data is saved. 234 locations with no data saved.\n",
      "202402 data is saved. 236 locations with no data saved.\n",
      "202403 data is saved. 234 locations with no data saved.\n",
      "202404 data is saved. 241 locations with no data saved.\n",
      "202405 data is saved. 260 locations with no data saved.\n",
      "202406 data is saved. 477 locations with no data saved.\n",
      "202407 data is saved. 477 locations with no data saved.\n",
      "202408 data is saved. 477 locations with no data saved.\n",
      "202409 data is saved. 477 locations with no data saved.\n",
      "202410 data is saved. 477 locations with no data saved.\n",
      "202411 data is saved. 477 locations with no data saved.\n",
      "202412 data is saved. 477 locations with no data saved.\n"
     ]
    }
   ],
   "source": [
    "lc = api.loc_code('all')\n",
    "ym = api.create_ym_list(2023, 2024)\n",
    "api.save_all(eng_aggre , 'multi-family', 'multi_family_raw', lc, ym)"
   ]
  }
 ],
 "metadata": {
  "kernelspec": {
   "display_name": ".venv",
   "language": "python",
   "name": "python3"
  },
  "language_info": {
   "codemirror_mode": {
    "name": "ipython",
    "version": 3
   },
   "file_extension": ".py",
   "mimetype": "text/x-python",
   "name": "python",
   "nbconvert_exporter": "python",
   "pygments_lexer": "ipython3",
   "version": "3.12.3"
  }
 },
 "nbformat": 4,
 "nbformat_minor": 2
}
