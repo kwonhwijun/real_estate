{
 "cells": [
  {
   "cell_type": "code",
   "execution_count": 12,
   "metadata": {},
   "outputs": [],
   "source": [
    "import pandas as pd\n",
    "from sqlalchemy import create_engine\n",
    "\n",
    "def fetch_data_from_db(data_type, transaction_type, year, month):\n",
    "    # RealEstate.db 파일의 경로를 설정해주세요\n",
    "    database_file = '/Users/hj/Dropbox/real_estate/data/db/RealEstate.db'\n",
    "\n",
    "    # SQLAlchemy 엔진 생성\n",
    "    engine = create_engine(f'sqlite:///{database_file}')\n",
    "\n",
    "    # 유효한 테이블 목록\n",
    "    valid_tables = [\n",
    "        'apt_lease_raw', 'house_lease_raw', 'office_lease_raw', 'multi_family_lease_raw',\n",
    "        'apt_raw', 'commerical_raw', 'multi_family_raw', 'house_raw', 'office_raw'\n",
    "    ]\n",
    "\n",
    "    # 데이터 타입과 거래 타입에 따른 테이블 이름 결정\n",
    "    table_prefix = {\n",
    "        '아파트': 'apt',\n",
    "        '단독다가구': 'house',\n",
    "        '오피스텔': 'office',\n",
    "        '연립다세대': 'multi_family',\n",
    "        '상업용': 'commerical'\n",
    "    }\n",
    "\n",
    "    if transaction_type == '임대':\n",
    "        suffix = 'lease_raw'\n",
    "    elif transaction_type == '매매':\n",
    "        suffix = 'raw'\n",
    "    else:\n",
    "        raise ValueError(\"Invalid transaction_type. Choose '임대' or '매매'.\")\n",
    "\n",
    "    table_name = f\"{table_prefix.get(data_type)}_{suffix}\"\n",
    "\n",
    "    if table_name not in valid_tables:\n",
    "        raise ValueError(f\"Invalid combination of data_type and transaction_type: {data_type}, {transaction_type}\")\n",
    "\n",
    "    # 쿼리 작성\n",
    "    query = f\"\"\"\n",
    "    SELECT *\n",
    "    FROM {table_name}\n",
    "    WHERE 년 = {year} AND 월 = {month}\n",
    "    \"\"\"\n",
    "\n",
    "    # 데이터베이스에서 데이터를 쿼리하여 데이터프레임으로 변환\n",
    "    df = pd.read_sql(query, engine)\n",
    "\n",
    "    return df\n"
   ]
  },
  {
   "cell_type": "code",
   "execution_count": 11,
   "metadata": {},
   "outputs": [
    {
     "name": "stdout",
     "output_type": "stream",
     "text": [
      "      거래금액  거래유형  건축년도     년    도로명 도로명건물본번호코드 도로명건물부번호코드 도로명시군구코드 도로명일련번호코드  \\\n",
      "0  170,000  중개거래  2008  2024  사직로8길      00004      00000    11110        03   \n",
      "1  138,000  중개거래  2008  2024  사직로8길      00004      00000    11110        03   \n",
      "2  148,000  중개거래  2003  2024  사직로8길      00020      00000    11110        05   \n",
      "3  105,000  중개거래  2009  2024   숭인동길      00021      00000    11110        01   \n",
      "4  162,000  중개거래  2017  2024    송월길      00099      00000    11110        01   \n",
      "\n",
      "  도로명지상지하코드  ...  월   일        일련번호     전용면적          중개사소재지   지번   지역코드   층  \\\n",
      "0         0  ...  5   1  11110-2203   131.44  서울 마포구, 서울 종로구    9  11110   2   \n",
      "1         0  ...  5   7  11110-2203    94.51          서울 종로구    9  11110   3   \n",
      "2         0  ...  5  10   11110-107   103.77          서울 종로구   95  11110  14   \n",
      "3         0  ...  5  14  11110-2234  84.9478          서울 종로구  766  11110  18   \n",
      "4      None  ...  5   6  11110-2445  59.8547  서울 송파구, 서울 종로구  199  11110  17   \n",
      "\n",
      "    해제사유발생일  해제여부  \n",
      "0      None  None  \n",
      "1      None  None  \n",
      "2      None  None  \n",
      "3  24.05.14     O  \n",
      "4      None  None  \n",
      "\n",
      "[5 rows x 32 columns]\n"
     ]
    }
   ],
   "source": [
    "# 함수 사용 예시\n",
    "data_type = '아파트'  # 또는 '단독다가구', '오피스텔', '연립다세대', '상업용'\n",
    "transaction_type = '매매'  # 또는 '매매'\n",
    "year = 2024\n",
    "month = 5\n",
    "\n",
    "df = fetch_data_from_db(data_type, transaction_type, year, month)\n",
    "print(df.head())"
   ]
  }
 ],
 "metadata": {
  "kernelspec": {
   "display_name": ".venv",
   "language": "python",
   "name": "python3"
  },
  "language_info": {
   "codemirror_mode": {
    "name": "ipython",
    "version": 3
   },
   "file_extension": ".py",
   "mimetype": "text/x-python",
   "name": "python",
   "nbconvert_exporter": "python",
   "pygments_lexer": "ipython3",
   "version": "3.12.3"
  }
 },
 "nbformat": 4,
 "nbformat_minor": 2
}
