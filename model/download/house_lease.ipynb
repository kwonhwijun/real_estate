{
 "cells": [
  {
   "cell_type": "code",
   "execution_count": 1,
   "metadata": {},
   "outputs": [],
   "source": [
    "import api\n",
    "eng_house_lease = api.create_engine('sqlite:////Users/hj/Dropbox/real_estate/data/임대/단독다가구_임대/house_lease.db')"
   ]
  },
  {
   "cell_type": "code",
   "execution_count": 3,
   "metadata": {},
   "outputs": [
    {
     "name": "stdout",
     "output_type": "stream",
     "text": [
      "201901 data is saved. 227 locations with no data saved.\n",
      "201902 data is saved. 227 locations with no data saved.\n",
      "201903 data is saved. 226 locations with no data saved.\n",
      "201904 data is saved. 228 locations with no data saved.\n",
      "201905 data is saved. 233 locations with no data saved.\n",
      "201906 data is saved. 229 locations with no data saved.\n",
      "201907 data is saved. 231 locations with no data saved.\n",
      "201908 data is saved. 229 locations with no data saved.\n",
      "201909 data is saved. 228 locations with no data saved.\n",
      "201910 data is saved. 229 locations with no data saved.\n",
      "201911 data is saved. 229 locations with no data saved.\n",
      "201912 data is saved. 227 locations with no data saved.\n",
      "202001 data is saved. 228 locations with no data saved.\n",
      "202002 data is saved. 228 locations with no data saved.\n",
      "202003 data is saved. 227 locations with no data saved.\n",
      "202004 data is saved. 229 locations with no data saved.\n",
      "202005 data is saved. 225 locations with no data saved.\n",
      "202006 data is saved. 231 locations with no data saved.\n",
      "202007 data is saved. 226 locations with no data saved.\n",
      "202008 data is saved. 232 locations with no data saved.\n",
      "202009 data is saved. 227 locations with no data saved.\n",
      "202010 data is saved. 231 locations with no data saved.\n",
      "202011 data is saved. 228 locations with no data saved.\n",
      "202012 data is saved. 229 locations with no data saved.\n",
      "202101 data is saved. 227 locations with no data saved.\n",
      "202102 data is saved. 230 locations with no data saved.\n",
      "202103 data is saved. 226 locations with no data saved.\n",
      "202104 data is saved. 228 locations with no data saved.\n",
      "202105 data is saved. 230 locations with no data saved.\n",
      "202106 data is saved. 230 locations with no data saved.\n",
      "202107 data is saved. 230 locations with no data saved.\n",
      "202108 data is saved. 227 locations with no data saved.\n",
      "202109 data is saved. 228 locations with no data saved.\n",
      "202110 data is saved. 228 locations with no data saved.\n",
      "202111 data is saved. 229 locations with no data saved.\n",
      "202112 data is saved. 226 locations with no data saved.\n",
      "202201 data is saved. 229 locations with no data saved.\n",
      "202202 data is saved. 227 locations with no data saved.\n",
      "202203 data is saved. 231 locations with no data saved.\n",
      "202204 data is saved. 229 locations with no data saved.\n",
      "202205 data is saved. 228 locations with no data saved.\n",
      "202206 data is saved. 230 locations with no data saved.\n",
      "202207 data is saved. 230 locations with no data saved.\n",
      "202208 data is saved. 227 locations with no data saved.\n",
      "202209 data is saved. 227 locations with no data saved.\n",
      "202210 data is saved. 226 locations with no data saved.\n",
      "202211 data is saved. 231 locations with no data saved.\n",
      "202212 data is saved. 228 locations with no data saved.\n",
      "202301 data is saved. 233 locations with no data saved.\n",
      "202302 data is saved. 230 locations with no data saved.\n",
      "202303 data is saved. 229 locations with no data saved.\n",
      "202304 data is saved. 234 locations with no data saved.\n",
      "202305 data is saved. 230 locations with no data saved.\n",
      "202306 data is saved. 229 locations with no data saved.\n",
      "202307 data is saved. 230 locations with no data saved.\n",
      "202308 data is saved. 227 locations with no data saved.\n",
      "202309 data is saved. 228 locations with no data saved.\n",
      "202310 data is saved. 228 locations with no data saved.\n",
      "202311 data is saved. 230 locations with no data saved.\n",
      "202312 data is saved. 229 locations with no data saved.\n",
      "202401 data is saved. 227 locations with no data saved.\n",
      "202402 data is saved. 232 locations with no data saved.\n",
      "202403 data is saved. 231 locations with no data saved.\n",
      "202404 data is saved. 235 locations with no data saved.\n",
      "202405 data is saved. 260 locations with no data saved.\n",
      "202406 data is saved. 477 locations with no data saved.\n",
      "202407 data is saved. 477 locations with no data saved.\n",
      "202408 data is saved. 477 locations with no data saved.\n",
      "202409 data is saved. 477 locations with no data saved.\n",
      "202410 data is saved. 477 locations with no data saved.\n",
      "202411 data is saved. 477 locations with no data saved.\n",
      "202412 data is saved. 477 locations with no data saved.\n"
     ]
    }
   ],
   "source": [
    "lc = api.loc_code('all')\n",
    "ym = api.create_ym_list(2019, 2024) # 2011년 부터 데이터 존재\n",
    "api.save_all(eng_house_lease, 'house_lease', 'house_lease_raw', lc, ym)"
   ]
  }
 ],
 "metadata": {
  "kernelspec": {
   "display_name": ".venv",
   "language": "python",
   "name": "python3"
  },
  "language_info": {
   "codemirror_mode": {
    "name": "ipython",
    "version": 3
   },
   "file_extension": ".py",
   "mimetype": "text/x-python",
   "name": "python",
   "nbconvert_exporter": "python",
   "pygments_lexer": "ipython3",
   "version": "3.12.3"
  }
 },
 "nbformat": 4,
 "nbformat_minor": 2
}
